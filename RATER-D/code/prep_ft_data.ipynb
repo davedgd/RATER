{
 "cells": [
  {
   "cell_type": "code",
   "execution_count": 1,
   "id": "6a67effd-717c-4845-af22-b1829615ade6",
   "metadata": {},
   "outputs": [
    {
     "name": "stdout",
     "output_type": "stream",
     "text": [
      "/home/daved/RATER-D\n"
     ]
    }
   ],
   "source": [
    "%cd ~/RATER-D"
   ]
  },
  {
   "cell_type": "code",
   "execution_count": 2,
   "id": "2be50f7a-2098-49a6-8135-187e5432e76a",
   "metadata": {},
   "outputs": [],
   "source": [
    "import pandas as pd\n",
    "import numpy as np\n",
    "import jsonlines"
   ]
  },
  {
   "cell_type": "code",
   "execution_count": 3,
   "id": "0eecc0fc-420d-4053-b3f6-00d47d29c7b2",
   "metadata": {},
   "outputs": [],
   "source": [
    "train = pd.read_excel(\"data/raw/Highest domain-fixed.xlsx\", sheet_name = 2)\n",
    "pred_df = pd.read_excel(\"data/raw/Sample data sheet for Kai v9.xlsx\")\n",
    "\n",
    "human_sheet = pred_df.merge(train, on = 'Match ID', how = 'right')\n",
    "human_sheet['Full construct'] = human_sheet['Construct name'] + ': ' + human_sheet['Construct definition']\n",
    "human_sheet['target'] = human_sheet['H&T ratings']\n",
    "\n",
    "train = human_sheet"
   ]
  },
  {
   "cell_type": "code",
   "execution_count": 4,
   "id": "55668a0f-f2c4-40f0-92a9-18e2670627a6",
   "metadata": {},
   "outputs": [
    {
     "name": "stdout",
     "output_type": "stream",
     "text": [
      "### Your job is to assess the degree to which each survey item matches the concept statement provided.\n",
      "\n",
      "You will be given a concept statement below, followed by a survey item. For each item, you will rate the degree to which it matches the provided concept statement.\n",
      "\n",
      "Not all of the survey items will match the provided concept statement. Therefore, please pay close attention to each individual survey item as you decide whether it matches the provided concept statement.\n",
      "\n",
      "### You will judge how well a survey item matches a particular statement using this response scale:\n",
      "1. Item does an EXTREMELY BAD job of measuring the concept provided above\n",
      "2. Item does a VERY BAD job of measuring the concept provided above\n",
      "3. Item does a SOMEWHAT BAD job of measuring the concept provided above\n",
      "4. Item does an ADEQUATE job of measuring the concept provided above\n",
      "5. Item does a SOMEWHAT GOOD job of measuring the concept provided above\n",
      "6. Item does a VERY GOOD job of measuring the concept provided above\n",
      "7. Item does an EXTREMELY GOOD job of measuring the concept provided above\n",
      "\n",
      "### The concept statement:\n",
      "{statement}\n",
      "\n",
      "### The survey item:\n",
      "{item}\n",
      "\n",
      "### Answer the question by immediately stating one response from the scale above verbatim. YOUR RESPONSE MUST MATCH THE SCALE EXACTLY WITHOUT ALTERATIONS, INCLUDING THE SCALE RESPONSE NUMBER.\n"
     ]
    }
   ],
   "source": [
    "thePerson = '''You are an academic expert. Please follow all the instructions very carefully. The questions are unique to survey measurement development and require detailed attention.\n",
    "\n",
    "Research projects often use survey items to measure concepts. Examples in the management field include work motivation, job satisfaction, and employee stress. When writing survey items, researchers must take great care to ensure that the items do a good job of measuring the concepts of interest (e.g., that an item intended to measure work motivation really seems to capture that concept well). Your purpose is to assess survey items used in the various literatures (e.g., management).'''\n",
    "\n",
    "thePrompt = '''### Your job is to assess the degree to which each survey item matches the concept statement provided.\n",
    "\n",
    "You will be given a concept statement below, followed by a survey item. For each item, you will rate the degree to which it matches the provided concept statement.\n",
    "\n",
    "Not all of the survey items will match the provided concept statement. Therefore, please pay close attention to each individual survey item as you decide whether it matches the provided concept statement.\n",
    "\n",
    "### You will judge how well a survey item matches a particular statement using this response scale:\n",
    "1. Item does an EXTREMELY BAD job of measuring the concept provided above\n",
    "2. Item does a VERY BAD job of measuring the concept provided above\n",
    "3. Item does a SOMEWHAT BAD job of measuring the concept provided above\n",
    "4. Item does an ADEQUATE job of measuring the concept provided above\n",
    "5. Item does a SOMEWHAT GOOD job of measuring the concept provided above\n",
    "6. Item does a VERY GOOD job of measuring the concept provided above\n",
    "7. Item does an EXTREMELY GOOD job of measuring the concept provided above\n",
    "\n",
    "### The concept statement:\n",
    "{statement}\n",
    "\n",
    "### The survey item:\n",
    "{item}\n",
    "\n",
    "### Answer the question by immediately stating one response from the scale above verbatim. YOUR RESPONSE MUST MATCH THE SCALE EXACTLY WITHOUT ALTERATIONS, INCLUDING THE SCALE RESPONSE NUMBER.'''\n",
    "\n",
    "print(thePrompt)\n",
    "\n",
    "theJustification = 'LASTLY, PROVIDE A JUSTIFICATION FOR YOUR CHOICE.'\n",
    "thePromptWithJustification = thePrompt + ' ' + theJustification"
   ]
  },
  {
   "cell_type": "code",
   "execution_count": 5,
   "id": "57ac72e0-2cec-4cdb-82af-cbaf818bc76b",
   "metadata": {},
   "outputs": [],
   "source": [
    "theScale = dict({\n",
    "    1: '1. Item does an EXTREMELY BAD job of measuring the concept provided above',\n",
    "    2: '2. Item does a VERY BAD job of measuring the concept provided above',\n",
    "    3: '3. Item does a SOMEWHAT BAD job of measuring the concept provided above',\n",
    "    4: '4. Item does an ADEQUATE job of measuring the concept provided above',\n",
    "    5: '5. Item does a SOMEWHAT GOOD job of measuring the concept provided above',\n",
    "    6: '6. Item does a VERY GOOD job of measuring the concept provided above',\n",
    "    7: '7. Item does an EXTREMELY GOOD job of measuring the concept provided above'\n",
    "})"
   ]
  },
  {
   "cell_type": "code",
   "execution_count": 6,
   "id": "babfa036-ba4d-460e-bc13-23cec3e96fe2",
   "metadata": {},
   "outputs": [],
   "source": [
    "prompts = []\n",
    "\n",
    "for index, row in train.iterrows():\n",
    "    prompt = thePrompt.format(\n",
    "        statement = row['Construct definition'], \n",
    "        item = row['Item text']\n",
    "        )\n",
    "    prompts += [prompt]"
   ]
  },
  {
   "cell_type": "code",
   "execution_count": 7,
   "id": "14134227-0d18-478e-a210-13683664edf3",
   "metadata": {},
   "outputs": [
    {
     "name": "stdout",
     "output_type": "stream",
     "text": [
      "### Your job is to assess the degree to which each survey item matches the concept statement provided.\n",
      "\n",
      "You will be given a concept statement below, followed by a survey item. For each item, you will rate the degree to which it matches the provided concept statement.\n",
      "\n",
      "Not all of the survey items will match the provided concept statement. Therefore, please pay close attention to each individual survey item as you decide whether it matches the provided concept statement.\n",
      "\n",
      "### You will judge how well a survey item matches a particular statement using this response scale:\n",
      "1. Item does an EXTREMELY BAD job of measuring the concept provided above\n",
      "2. Item does a VERY BAD job of measuring the concept provided above\n",
      "3. Item does a SOMEWHAT BAD job of measuring the concept provided above\n",
      "4. Item does an ADEQUATE job of measuring the concept provided above\n",
      "5. Item does a SOMEWHAT GOOD job of measuring the concept provided above\n",
      "6. Item does a VERY GOOD job of measuring the concept provided above\n",
      "7. Item does an EXTREMELY GOOD job of measuring the concept provided above\n",
      "\n",
      "### The concept statement:\n",
      "The extent to which the recruiter and the job applicant share important values, attitudes, and beliefs.\n",
      "\n",
      "### The survey item:\n",
      "The job applicant and I are similar in terms of our outlook, perspective, and values.\n",
      "\n",
      "### Answer the question by immediately stating one response from the scale above verbatim. YOUR RESPONSE MUST MATCH THE SCALE EXACTLY WITHOUT ALTERATIONS, INCLUDING THE SCALE RESPONSE NUMBER.\n"
     ]
    }
   ],
   "source": [
    "print(prompts[0])"
   ]
  },
  {
   "cell_type": "code",
   "execution_count": 8,
   "id": "fd3b7bca-ab45-4d9e-9c4c-67c5387c7cdc",
   "metadata": {},
   "outputs": [],
   "source": [
    "items = []\n",
    "\n",
    "def binning_function (val, adjust_cutoffs = False):\n",
    "    if adjust_cutoffs:\n",
    "        cutoffs = [6.25, 5.5, 4.5, 3.5, 2.5, 1.75, 1]\n",
    "        vals = [7, 6, 5, 4, 3, 2, 1]\n",
    "        for i, each_cutoff in enumerate(cutoffs):\n",
    "            if val >= each_cutoff:\n",
    "                return vals[i]\n",
    "    else:\n",
    "        return np.rint(val)\n",
    "\n",
    "for i, _ in enumerate(prompts):\n",
    "    items.append([{\"role\": \"system\", \"content\": thePerson},\n",
    "                  {\"role\": \"user\", \"content\": prompts[i]},\n",
    "                  {\"role\": \"assistant\", \"content\": theScale[binning_function(train['target'][i])]}])"
   ]
  },
  {
   "cell_type": "code",
   "execution_count": 9,
   "id": "accf527d-9600-46bc-8555-be517f4e709e",
   "metadata": {},
   "outputs": [
    {
     "data": {
      "text/plain": [
       "[{'role': 'system',\n",
       "  'content': 'You are an academic expert. Please follow all the instructions very carefully. The questions are unique to survey measurement development and require detailed attention.\\n\\nResearch projects often use survey items to measure concepts. Examples in the management field include work motivation, job satisfaction, and employee stress. When writing survey items, researchers must take great care to ensure that the items do a good job of measuring the concepts of interest (e.g., that an item intended to measure work motivation really seems to capture that concept well). Your purpose is to assess survey items used in the various literatures (e.g., management).'},\n",
       " {'role': 'user',\n",
       "  'content': '### Your job is to assess the degree to which each survey item matches the concept statement provided.\\n\\nYou will be given a concept statement below, followed by a survey item. For each item, you will rate the degree to which it matches the provided concept statement.\\n\\nNot all of the survey items will match the provided concept statement. Therefore, please pay close attention to each individual survey item as you decide whether it matches the provided concept statement.\\n\\n### You will judge how well a survey item matches a particular statement using this response scale:\\n1. Item does an EXTREMELY BAD job of measuring the concept provided above\\n2. Item does a VERY BAD job of measuring the concept provided above\\n3. Item does a SOMEWHAT BAD job of measuring the concept provided above\\n4. Item does an ADEQUATE job of measuring the concept provided above\\n5. Item does a SOMEWHAT GOOD job of measuring the concept provided above\\n6. Item does a VERY GOOD job of measuring the concept provided above\\n7. Item does an EXTREMELY GOOD job of measuring the concept provided above\\n\\n### The concept statement:\\nThe extent to which the recruiter and the job applicant share important values, attitudes, and beliefs.\\n\\n### The survey item:\\nThe job applicant and I are similar in terms of our outlook, perspective, and values.\\n\\n### Answer the question by immediately stating one response from the scale above verbatim. YOUR RESPONSE MUST MATCH THE SCALE EXACTLY WITHOUT ALTERATIONS, INCLUDING THE SCALE RESPONSE NUMBER.'},\n",
       " {'role': 'assistant',\n",
       "  'content': '7. Item does an EXTREMELY GOOD job of measuring the concept provided above'}]"
      ]
     },
     "execution_count": 9,
     "metadata": {},
     "output_type": "execute_result"
    }
   ],
   "source": [
    "items[0]"
   ]
  },
  {
   "cell_type": "code",
   "execution_count": 10,
   "id": "dc9b510c-04fe-42b6-8c14-a246655b5b30",
   "metadata": {},
   "outputs": [],
   "source": [
    "with jsonlines.open('data/ft/datasets/train.txt', 'w') as writer:\n",
    "    writer.write_all(items)"
   ]
  },
  {
   "cell_type": "code",
   "execution_count": 11,
   "id": "8f89d41d-f380-4e57-8b64-a333e2b344e4",
   "metadata": {},
   "outputs": [],
   "source": [
    "with jsonlines.open('data/ft/openai/train.jsonl', 'w') as writer:\n",
    "    writer.write_all([{'messages': item} for item in items])"
   ]
  }
 ],
 "metadata": {
  "kernelspec": {
   "display_name": "ht",
   "language": "python",
   "name": "python3"
  },
  "language_info": {
   "codemirror_mode": {
    "name": "ipython",
    "version": 3
   },
   "file_extension": ".py",
   "mimetype": "text/x-python",
   "name": "python",
   "nbconvert_exporter": "python",
   "pygments_lexer": "ipython3",
   "version": "3.10.18"
  }
 },
 "nbformat": 4,
 "nbformat_minor": 5
}
