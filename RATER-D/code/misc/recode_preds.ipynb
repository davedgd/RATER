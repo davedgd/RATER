{
 "cells": [
  {
   "cell_type": "code",
   "execution_count": 1,
   "id": "6afce0eb-93a2-455e-a8c1-fc2a7fe2d26c",
   "metadata": {},
   "outputs": [
    {
     "name": "stdout",
     "output_type": "stream",
     "text": [
      "/home/daved/RATER-D\n"
     ]
    }
   ],
   "source": [
    "%cd ~/RATER-D"
   ]
  },
  {
   "cell_type": "code",
   "execution_count": 2,
   "id": "c3791252-b8b4-4dc5-ad18-7c8d65a0eefc",
   "metadata": {},
   "outputs": [],
   "source": [
    "import pandas as pd"
   ]
  },
  {
   "cell_type": "code",
   "execution_count": 3,
   "id": "fc3b66a5-d4df-40a5-80d9-66e0aac986a0",
   "metadata": {},
   "outputs": [
    {
     "data": {
      "text/html": [
       "<div>\n",
       "<style scoped>\n",
       "    .dataframe tbody tr th:only-of-type {\n",
       "        vertical-align: middle;\n",
       "    }\n",
       "\n",
       "    .dataframe tbody tr th {\n",
       "        vertical-align: top;\n",
       "    }\n",
       "\n",
       "    .dataframe thead th {\n",
       "        text-align: right;\n",
       "    }\n",
       "</style>\n",
       "<table border=\"1\" class=\"dataframe\">\n",
       "  <thead>\n",
       "    <tr style=\"text-align: right;\">\n",
       "      <th></th>\n",
       "      <th>target</th>\n",
       "      <th>result</th>\n",
       "      <th>pred</th>\n",
       "    </tr>\n",
       "  </thead>\n",
       "  <tbody>\n",
       "    <tr>\n",
       "      <th>0</th>\n",
       "      <td>1</td>\n",
       "      <td>4. Item does an ADEQUATE job of measuring the ...</td>\n",
       "      <td>4</td>\n",
       "    </tr>\n",
       "    <tr>\n",
       "      <th>1</th>\n",
       "      <td>1</td>\n",
       "      <td>4. Item does an ADEQUATE job of measuring the ...</td>\n",
       "      <td>4</td>\n",
       "    </tr>\n",
       "    <tr>\n",
       "      <th>2</th>\n",
       "      <td>0</td>\n",
       "      <td>4. Item does an ADEQUATE job of measuring the ...</td>\n",
       "      <td>4</td>\n",
       "    </tr>\n",
       "  </tbody>\n",
       "</table>\n",
       "</div>"
      ],
      "text/plain": [
       "   target                                             result  pred\n",
       "0       1  4. Item does an ADEQUATE job of measuring the ...     4\n",
       "1       1  4. Item does an ADEQUATE job of measuring the ...     4\n",
       "2       0  4. Item does an ADEQUATE job of measuring the ...     4"
      ]
     },
     "execution_count": 3,
     "metadata": {},
     "output_type": "execute_result"
    }
   ],
   "source": [
    "file_name = 'code/gpt35turbo-noft.csv'\n",
    "\n",
    "data = pd.read_csv(file_name)\n",
    "data.head(3)"
   ]
  },
  {
   "cell_type": "code",
   "execution_count": 4,
   "id": "319797e5-7506-46fe-9e01-350d15331a71",
   "metadata": {},
   "outputs": [],
   "source": [
    "categories = ['EXTREMELY BAD', 'VERY BAD', 'SOMEWHAT BAD', 'ADEQUATE', 'SOMEWHAT GOOD', 'VERY GOOD', 'EXTREMELY GOOD']"
   ]
  },
  {
   "cell_type": "code",
   "execution_count": 5,
   "id": "781776e5-9baf-4edc-a9a1-6d3b8c37bb9c",
   "metadata": {},
   "outputs": [
    {
     "name": "stdout",
     "output_type": "stream",
     "text": [
      "Item does an EXTREMELY BAD job of measuring the concept provided above\n",
      "1298\n",
      "13\n",
      "Item does an EXTREMELY BAD job of measuring the concept provided above\n",
      "1637\n",
      "13\n",
      "Item does an EXTREMELY BAD job of measuring the concept provided above.\n",
      "1645\n",
      "13\n",
      "Item does an EXTREMELY BAD job of measuring the concept provided above\n",
      "1646\n",
      "13\n",
      "Item does an EXTREMELY BAD job of measuring the concept provided above\n",
      "1811\n",
      "13\n",
      "Item does an EXTREMELY BAD job of measuring the concept provided above.\n",
      "5817\n",
      "13\n",
      "Item does an EXTREMELY BAD job of measuring the concept provided above.\n",
      "27121\n",
      "13\n",
      "Item does an EXTREMELY BAD job of measuring the concept provided above\n",
      "29346\n",
      "13\n"
     ]
    }
   ],
   "source": [
    "recodes = []\n",
    "\n",
    "for index, row in data.iterrows():\n",
    "    try:\n",
    "        recodes.append(int(row['result'][0]))\n",
    "    except:\n",
    "        print(row['result'])\n",
    "        print(index)\n",
    "        replacement = ''\n",
    "        for i, each_category in enumerate(categories):\n",
    "            if row['result'].find(each_category) != -1:\n",
    "                print(row['result'].find(each_category))\n",
    "                replacement = i + 1\n",
    "                recodes.append(replacement)\n",
    "        if replacement == '':\n",
    "            recodes.append(1)"
   ]
  },
  {
   "cell_type": "code",
   "execution_count": 6,
   "id": "fb26b73c-d79e-44ef-bb6f-721d694abe73",
   "metadata": {},
   "outputs": [],
   "source": [
    "data['pred'] = recodes"
   ]
  },
  {
   "cell_type": "code",
   "execution_count": 7,
   "id": "eb5d94a2-cbf3-44e4-9f01-4451eb355169",
   "metadata": {},
   "outputs": [],
   "source": [
    "data.to_csv(file_name, index = False)"
   ]
  },
  {
   "cell_type": "code",
   "execution_count": null,
   "id": "db0d16bc-94c7-43d8-8fa3-d7e869514974",
   "metadata": {},
   "outputs": [],
   "source": []
  }
 ],
 "metadata": {
  "kernelspec": {
   "display_name": "ht",
   "language": "python",
   "name": "python3"
  },
  "language_info": {
   "codemirror_mode": {
    "name": "ipython",
    "version": 3
   },
   "file_extension": ".py",
   "mimetype": "text/x-python",
   "name": "python",
   "nbconvert_exporter": "python",
   "pygments_lexer": "ipython3",
   "version": "3.10.18"
  }
 },
 "nbformat": 4,
 "nbformat_minor": 5
}
