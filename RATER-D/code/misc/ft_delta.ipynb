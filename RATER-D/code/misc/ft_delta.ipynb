{
 "cells": [
  {
   "cell_type": "code",
   "execution_count": 1,
   "metadata": {},
   "outputs": [
    {
     "name": "stdout",
     "output_type": "stream",
     "text": [
      "/home/daved/RATER-D\n"
     ]
    }
   ],
   "source": [
    "%cd ~/RATER-D"
   ]
  },
  {
   "cell_type": "code",
   "execution_count": 2,
   "metadata": {},
   "outputs": [],
   "source": [
    "import pandas as pd\n",
    "import numpy as np\n",
    "\n",
    "from sklearn.metrics import roc_auc_score, f1_score\n",
    "from netcal.metrics import ECE\n",
    "\n",
    "from pprint import pprint"
   ]
  },
  {
   "cell_type": "code",
   "execution_count": 3,
   "metadata": {},
   "outputs": [],
   "source": [
    "def calc_deltas (model_name, results_ft, results_noft):\n",
    "\n",
    "    df_ft =   pd.read_csv(results_ft)\n",
    "    df_noft = pd.read_csv(results_noft)\n",
    "\n",
    "    y_true_ft = df_ft['target']\n",
    "    preds_ft = np.where(df_ft['pred'] >= 5, 1, 0)\n",
    "    probs_ft = (df_ft['pred'] - 1) / 6\n",
    "\n",
    "    y_true_noft = df_noft['target']\n",
    "    preds_noft = np.where(df_noft['pred'] >= 5, 1, 0)\n",
    "    probs_noft = (df_noft['pred'] - 1) / 6\n",
    "\n",
    "    n_bins = 7\n",
    "\n",
    "    auc_ft = roc_auc_score(y_true_ft, probs_ft)\n",
    "    macro_f1_ft = f1_score(y_true_ft, preds_ft, average = 'macro')\n",
    "    ece_ft = ECE(bins = n_bins).measure(np.array(probs_ft), np.array(y_true_ft))\n",
    "\n",
    "    auc_noft = roc_auc_score(y_true_noft, probs_noft)\n",
    "    macro_f1_noft = f1_score(y_true_noft, preds_noft, average = 'macro')\n",
    "    ece_noft = ECE(bins = n_bins).measure(np.array(probs_noft), np.array(y_true_noft))\n",
    "\n",
    "    delta_auc = np.round(auc_ft - auc_noft, 3)\n",
    "    delta_macro_f1 = np.round(macro_f1_ft - macro_f1_noft, 3)\n",
    "    delta_ece = np.round(ece_ft - ece_noft, 3)\n",
    "\n",
    "    metrics = {\n",
    "        'model': model_name,\n",
    "        'auc': delta_auc,\n",
    "        'macro_f1': delta_macro_f1,\n",
    "        'ece': delta_ece\n",
    "    }\n",
    "\n",
    "    pprint(metrics, sort_dicts = False)"
   ]
  },
  {
   "cell_type": "code",
   "execution_count": 4,
   "metadata": {},
   "outputs": [
    {
     "name": "stdout",
     "output_type": "stream",
     "text": [
      "{'model': 'gpt4o', 'auc': 0.017, 'macro_f1': -0.017, 'ece': 0.157}\n"
     ]
    }
   ],
   "source": [
    "model_name = 'gpt4o'\n",
    "results_ft = 'results/ft/gpt4o.csv'\n",
    "results_noft = 'results/noft/gpt4o-noft.csv'\n",
    "\n",
    "calc_deltas(model_name, results_ft, results_noft)"
   ]
  },
  {
   "cell_type": "code",
   "execution_count": 5,
   "metadata": {},
   "outputs": [
    {
     "name": "stdout",
     "output_type": "stream",
     "text": [
      "{'model': 'Qwen2.5 32B', 'auc': 0.05, 'macro_f1': 0.093, 'ece': 0.067}\n"
     ]
    }
   ],
   "source": [
    "model_name = 'Qwen2.5 32B'\n",
    "results_ft = 'results/ft/unsloth_Qwen2.5-32B-Instruct-bnb-4bit.csv'\n",
    "results_noft = 'results/noft/unsloth_Qwen2.5-32B-Instruct-bnb-4bit.csv'\n",
    "\n",
    "calc_deltas(model_name, results_ft, results_noft)"
   ]
  },
  {
   "cell_type": "code",
   "execution_count": 6,
   "metadata": {},
   "outputs": [
    {
     "name": "stdout",
     "output_type": "stream",
     "text": [
      "{'model': 'Llama 3 70B', 'auc': 0.038, 'macro_f1': 0.061, 'ece': 0.019}\n"
     ]
    }
   ],
   "source": [
    "model_name = 'Llama 3 70B'\n",
    "results_ft = 'results/ft/unsloth_llama-3-70b-Instruct-bnb-4bit.csv'\n",
    "results_noft = 'results/noft/unsloth_llama-3-70b-Instruct-bnb-4bit.csv'\n",
    "\n",
    "calc_deltas(model_name, results_ft, results_noft)"
   ]
  },
  {
   "cell_type": "code",
   "execution_count": 7,
   "metadata": {},
   "outputs": [
    {
     "name": "stdout",
     "output_type": "stream",
     "text": [
      "{'model': 'Llama 3.1 70B', 'auc': 0.041, 'macro_f1': 0.012, 'ece': 0.072}\n"
     ]
    }
   ],
   "source": [
    "model_name = 'Llama 3.1 70B'\n",
    "results_ft = 'results/ft/unsloth_Meta-Llama-3.1-70B-Instruct-bnb-4bit.csv'\n",
    "results_noft = 'results/noft/unsloth_Meta-Llama-3.1-70B-Instruct-bnb-4bit.csv'\n",
    "\n",
    "calc_deltas(model_name, results_ft, results_noft)"
   ]
  },
  {
   "cell_type": "code",
   "execution_count": 8,
   "metadata": {},
   "outputs": [
    {
     "name": "stdout",
     "output_type": "stream",
     "text": [
      "{'model': 'gpt4omini', 'auc': 0.039, 'macro_f1': 0.012, 'ece': 0.045}\n"
     ]
    }
   ],
   "source": [
    "model_name = 'gpt4omini'\n",
    "results_ft = 'results/ft/gpt4omini.csv'\n",
    "results_noft = 'results/noft/gpt4omini-noft.csv'\n",
    "\n",
    "calc_deltas(model_name, results_ft, results_noft)"
   ]
  },
  {
   "cell_type": "code",
   "execution_count": 9,
   "metadata": {},
   "outputs": [
    {
     "name": "stdout",
     "output_type": "stream",
     "text": [
      "{'model': 'gpt35turbo', 'auc': 0.203, 'macro_f1': 0.057, 'ece': -0.105}\n"
     ]
    }
   ],
   "source": [
    "model_name = 'gpt35turbo'\n",
    "results_ft = 'results/ft/gpt35turbo.csv'\n",
    "results_noft = 'results/noft/gpt35turbo-noft.csv'\n",
    "\n",
    "calc_deltas(model_name, results_ft, results_noft)"
   ]
  },
  {
   "cell_type": "code",
   "execution_count": null,
   "metadata": {},
   "outputs": [],
   "source": []
  }
 ],
 "metadata": {
  "kernelspec": {
   "display_name": "ht",
   "language": "python",
   "name": "python3"
  },
  "language_info": {
   "codemirror_mode": {
    "name": "ipython",
    "version": 3
   },
   "file_extension": ".py",
   "mimetype": "text/x-python",
   "name": "python",
   "nbconvert_exporter": "python",
   "pygments_lexer": "ipython3",
   "version": "3.10.18"
  }
 },
 "nbformat": 4,
 "nbformat_minor": 2
}
