{
 "cells": [
  {
   "cell_type": "code",
   "execution_count": 1,
   "id": "d6afbeb5-6834-4a7b-97b4-153724f39531",
   "metadata": {},
   "outputs": [
    {
     "name": "stdout",
     "output_type": "stream",
     "text": [
      "/home/daved/RATER-D\n"
     ]
    }
   ],
   "source": [
    "%cd ~/RATER-D"
   ]
  },
  {
   "cell_type": "code",
   "execution_count": 2,
   "id": "149bfd50-780f-4307-85a6-b1574b73c505",
   "metadata": {},
   "outputs": [],
   "source": [
    "import pandas as pd\n",
    "import janitor\n",
    "import numpy as np\n",
    "from Levenshtein import distance as levenshtein_distance"
   ]
  },
  {
   "cell_type": "code",
   "execution_count": 3,
   "id": "dba2f6eb-c152-48f3-9cc3-ae43e9ff5cd8",
   "metadata": {},
   "outputs": [],
   "source": [
    "train = pd.read_excel('data/processed/train_val_test.xlsx', sheet_name = 'train').clean_names()\n",
    "val   = pd.read_excel('data/processed/train_val_test.xlsx', sheet_name = 'val').clean_names()\n",
    "test  = pd.read_excel('data/processed/train_val_test.xlsx', sheet_name = 'test').clean_names()"
   ]
  },
  {
   "cell_type": "code",
   "execution_count": 4,
   "id": "d4327c1f",
   "metadata": {},
   "outputs": [],
   "source": [
    "dat = pd.concat([train, val, test])\n",
    "dat_journal_subset = dat.query(\"journalname == 'Academy of Management Journal' or journalname == 'Journal of Applied Psychology'\")"
   ]
  },
  {
   "cell_type": "code",
   "execution_count": 5,
   "id": "2e0a8e35",
   "metadata": {},
   "outputs": [
    {
     "data": {
      "text/plain": [
       "journalname\n",
       "Academy of Management Journal    12290\n",
       "Journal of Applied Psychology    46552\n",
       "dtype: int64"
      ]
     },
     "execution_count": 5,
     "metadata": {},
     "output_type": "execute_result"
    }
   ],
   "source": [
    "dat_journal_subset.groupby('journalname').size()"
   ]
  },
  {
   "cell_type": "code",
   "execution_count": 6,
   "id": "a2dfd812",
   "metadata": {},
   "outputs": [
    {
     "data": {
      "text/plain": [
       "count    58842.000000\n",
       "mean      2004.343479\n",
       "std          4.029663\n",
       "min       1976.000000\n",
       "25%       2001.000000\n",
       "50%       2005.000000\n",
       "75%       2007.000000\n",
       "max       2012.000000\n",
       "Name: year, dtype: float64"
      ]
     },
     "execution_count": 6,
     "metadata": {},
     "output_type": "execute_result"
    }
   ],
   "source": [
    "dat_journal_subset.year.describe()"
   ]
  },
  {
   "cell_type": "code",
   "execution_count": 7,
   "id": "3fbdfc2f-1408-47e7-beeb-87eb033716ba",
   "metadata": {
    "scrolled": true
   },
   "outputs": [],
   "source": [
    "test_journal_subset = test.query(\"journalname == 'Academy of Management Journal' or journalname == 'Journal of Applied Psychology'\")"
   ]
  },
  {
   "cell_type": "code",
   "execution_count": 8,
   "id": "53beae89-8b2e-4101-a8f8-2807c737592b",
   "metadata": {},
   "outputs": [
    {
     "data": {
      "text/plain": [
       "journalname\n",
       "Academy of Management Journal    1364\n",
       "Journal of Applied Psychology    4368\n",
       "dtype: int64"
      ]
     },
     "execution_count": 8,
     "metadata": {},
     "output_type": "execute_result"
    }
   ],
   "source": [
    "test_journal_subset.groupby('journalname').size()"
   ]
  },
  {
   "cell_type": "code",
   "execution_count": 9,
   "id": "31bdb386-b505-4559-a337-e40a90e0fb44",
   "metadata": {},
   "outputs": [
    {
     "data": {
      "text/plain": [
       "count    5732.000000\n",
       "mean     2003.676727\n",
       "std         4.216112\n",
       "min      1998.000000\n",
       "25%      2000.000000\n",
       "50%      2003.000000\n",
       "75%      2007.000000\n",
       "max      2012.000000\n",
       "Name: year, dtype: float64"
      ]
     },
     "execution_count": 9,
     "metadata": {},
     "output_type": "execute_result"
    }
   ],
   "source": [
    "test_journal_subset.year.describe()"
   ]
  },
  {
   "cell_type": "code",
   "execution_count": 10,
   "id": "f8b1c151-b2d5-46a8-9368-dc77c71f8793",
   "metadata": {},
   "outputs": [],
   "source": [
    "test_all_journals = test"
   ]
  },
  {
   "cell_type": "code",
   "execution_count": 11,
   "id": "6fb13803-be26-4057-b3f5-ced0ced44aad",
   "metadata": {},
   "outputs": [
    {
     "data": {
      "text/plain": [
       "journalname\n",
       "Academy of Management Journal                   1364\n",
       "American Educational Research Journal           1458\n",
       "American Journal of Sociology                      6\n",
       "American Sociological Review                     116\n",
       "Annals of Behavioral Medicine                    108\n",
       "Educational Evaluation and Policy Analysis      6960\n",
       "Health Education Research                        836\n",
       "Information Systems Research                    2971\n",
       "Journal of Applied Psychology                   4368\n",
       "Journal of Consumer Research                     297\n",
       "Journal of Management Information Systems       5352\n",
       "Journal of Marketing Research                    560\n",
       "Journal of Nursing Scholarship                   160\n",
       "Journal of Personality and Social Psychology    2980\n",
       "MIS Quarterly                                   4738\n",
       "Nursing Research                                 220\n",
       "Research in Nursing and health                   503\n",
       "Social Forces                                    214\n",
       "Sociology of Education                            93\n",
       "dtype: int64"
      ]
     },
     "execution_count": 11,
     "metadata": {},
     "output_type": "execute_result"
    }
   ],
   "source": [
    "test_all_journals.groupby('journalname').size()"
   ]
  },
  {
   "cell_type": "code",
   "execution_count": 12,
   "id": "e2361375-ef58-4c9a-b674-febeeffe6848",
   "metadata": {},
   "outputs": [
    {
     "data": {
      "text/plain": [
       "count    33304.000000\n",
       "mean      2005.736548\n",
       "std          4.997097\n",
       "min       1987.000000\n",
       "25%       2003.000000\n",
       "50%       2007.000000\n",
       "75%       2007.000000\n",
       "max       2020.000000\n",
       "Name: year, dtype: float64"
      ]
     },
     "execution_count": 12,
     "metadata": {},
     "output_type": "execute_result"
    }
   ],
   "source": [
    "test_all_journals.year.describe()"
   ]
  },
  {
   "cell_type": "code",
   "execution_count": 13,
   "id": "a34dcacc-9f5f-4b2b-905c-be82d85e98f9",
   "metadata": {},
   "outputs": [
    {
     "data": {
      "text/plain": [
       "858"
      ]
     },
     "execution_count": 13,
     "metadata": {},
     "output_type": "execute_result"
    }
   ],
   "source": [
    "train = pd.read_excel(\"data/raw/Highest domain-fixed.xlsx\", sheet_name = 3)\n",
    "pred_df = pd.read_excel(\"data/raw/Sample data sheet for Kai v9.xlsx\")\n",
    "\n",
    "human_sheet = pred_df.merge(train, on = 'Match ID', how = 'right')\n",
    "human_sheet['Full construct'] = human_sheet['Construct name'] + ': ' + human_sheet['Construct definition']\n",
    "\n",
    "human_sheet = human_sheet.clean_names()\n",
    "len(human_sheet)"
   ]
  },
  {
   "cell_type": "code",
   "execution_count": 14,
   "id": "e2129bd0-92ab-4ba5-a753-f9d52b1eea1f",
   "metadata": {},
   "outputs": [],
   "source": [
    "llm_dat_defs = human_sheet.construct_definition.str.lower().str.strip().unique()\n",
    "test_dat_defs = dat.definition.str.lower().str.strip().str.encode('latin1').str.decode('cp1252').unique()\n",
    "\n",
    "for each_def in llm_dat_defs:\n",
    "    if each_def in test_dat_defs:\n",
    "        print('Match')"
   ]
  },
  {
   "cell_type": "code",
   "execution_count": 15,
   "id": "ea2c66e7-1758-4e08-942d-5fa30e47d1fe",
   "metadata": {},
   "outputs": [
    {
     "name": "stdout",
     "output_type": "stream",
     "text": [
      "Match at distance threshold of 12\n"
     ]
    }
   ],
   "source": [
    "distance_threshold = 1\n",
    "search = True\n",
    "\n",
    "while search:\n",
    "    for each_def_a in llm_dat_defs:\n",
    "        for each_def_b in test_dat_defs:\n",
    "            if levenshtein_distance(each_def_a, each_def_b) <= distance_threshold:\n",
    "                print('Match at distance threshold of', distance_threshold)\n",
    "                search = False\n",
    "                break\n",
    "        if not search:\n",
    "            break\n",
    "    distance_threshold += 1"
   ]
  },
  {
   "cell_type": "code",
   "execution_count": 16,
   "id": "c50d5c4f-033d-4068-831c-0b8141b0b71e",
   "metadata": {},
   "outputs": [],
   "source": [
    "llm_dat_items = human_sheet.item_text.str.lower().str.strip().unique()\n",
    "test_dat_items = test.itemtext.str.lower().str.strip().str.encode('latin1').str.decode('cp1252').unique()\n",
    "\n",
    "for each_item in llm_dat_items:\n",
    "    if each_item in test_dat_items:\n",
    "        print('Match')"
   ]
  },
  {
   "cell_type": "code",
   "execution_count": 17,
   "id": "6502554d-df1e-4470-b71d-0303e048087f",
   "metadata": {},
   "outputs": [
    {
     "name": "stdout",
     "output_type": "stream",
     "text": [
      "Match at distance threshold of 7\n"
     ]
    }
   ],
   "source": [
    "distance_threshold = 1\n",
    "search = True\n",
    "\n",
    "while search:\n",
    "    for each_item_a in llm_dat_items:\n",
    "        for each_item_b in test_dat_items:\n",
    "            if levenshtein_distance(each_item_a, each_item_b) <= distance_threshold:\n",
    "                print('Match at distance threshold of', distance_threshold)\n",
    "                search = False\n",
    "                break\n",
    "        if not search:\n",
    "            break\n",
    "    distance_threshold += 1"
   ]
  },
  {
   "cell_type": "code",
   "execution_count": null,
   "id": "f98759e6",
   "metadata": {},
   "outputs": [],
   "source": []
  }
 ],
 "metadata": {
  "kernelspec": {
   "display_name": "ht",
   "language": "python",
   "name": "python3"
  },
  "language_info": {
   "codemirror_mode": {
    "name": "ipython",
    "version": 3
   },
   "file_extension": ".py",
   "mimetype": "text/x-python",
   "name": "python",
   "nbconvert_exporter": "python",
   "pygments_lexer": "ipython3",
   "version": "3.10.18"
  }
 },
 "nbformat": 4,
 "nbformat_minor": 5
}
