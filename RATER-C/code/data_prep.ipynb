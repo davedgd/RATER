{
 "cells": [
  {
   "cell_type": "code",
   "execution_count": 1,
   "id": "fd0d962b",
   "metadata": {},
   "outputs": [
    {
     "name": "stdout",
     "output_type": "stream",
     "text": [
      "/home/daved/RATER-C\n"
     ]
    }
   ],
   "source": [
    "%cd ~/RATER-C"
   ]
  },
  {
   "cell_type": "code",
   "execution_count": 2,
   "id": "d6fb8469-8bd1-4887-a2e4-3ab9140bb930",
   "metadata": {},
   "outputs": [],
   "source": [
    "import os\n",
    "os.environ['CUDA_VISIBLE_DEVICES'] = '0'\n",
    "\n",
    "import pandas as pd\n",
    "import numpy as np\n",
    "import random\n",
    "\n",
    "seed = 123\n",
    "rand = random.Random(seed)\n",
    "np.random.seed(seed)"
   ]
  },
  {
   "cell_type": "code",
   "execution_count": 3,
   "id": "5431944c-4f5c-49b0-b9dd-ec1af0e3c5c4",
   "metadata": {},
   "outputs": [
    {
     "data": {
      "text/plain": [
       "291119"
      ]
     },
     "execution_count": 3,
     "metadata": {},
     "output_type": "execute_result"
    }
   ],
   "source": [
    "df = pd.read_csv('data/raw/Training and validation data.csv')\n",
    "len(df)"
   ]
  },
  {
   "cell_type": "code",
   "execution_count": 4,
   "id": "5b9e938d-a127-443d-a598-8d0502f9f4f6",
   "metadata": {},
   "outputs": [
    {
     "data": {
      "text/plain": [
       "3337"
      ]
     },
     "execution_count": 4,
     "metadata": {},
     "output_type": "execute_result"
    }
   ],
   "source": [
    "len(df.SourceId.unique())"
   ]
  },
  {
   "cell_type": "code",
   "execution_count": 5,
   "id": "6c3e5a05",
   "metadata": {},
   "outputs": [
    {
     "data": {
      "text/plain": [
       "array([], dtype=int64)"
      ]
     },
     "execution_count": 5,
     "metadata": {},
     "output_type": "execute_result"
    }
   ],
   "source": [
    "df[df['ItemText'].isnull()].SourceId.unique() # no missing definitions"
   ]
  },
  {
   "cell_type": "code",
   "execution_count": 6,
   "id": "2a8c5182-4e0a-4af4-b794-0f046a27f24e",
   "metadata": {},
   "outputs": [
    {
     "data": {
      "text/plain": [
       "array([11392])"
      ]
     },
     "execution_count": 6,
     "metadata": {},
     "output_type": "execute_result"
    }
   ],
   "source": [
    "df[df['definition'].isnull()].SourceId.unique() # missing definitions in SourceId 11392"
   ]
  },
  {
   "cell_type": "code",
   "execution_count": 7,
   "id": "fdf8e529-58c8-4e1c-ac0b-69acb67e767e",
   "metadata": {},
   "outputs": [
    {
     "data": {
      "text/plain": [
       "9"
      ]
     },
     "execution_count": 7,
     "metadata": {},
     "output_type": "execute_result"
    }
   ],
   "source": [
    "len(df[df['definition'].isnull()]) # 9 missing definitions"
   ]
  },
  {
   "cell_type": "code",
   "execution_count": 8,
   "id": "433d890f-3c5e-47c1-b8dd-039bb7d93095",
   "metadata": {},
   "outputs": [
    {
     "data": {
      "text/plain": [
       "27"
      ]
     },
     "execution_count": 8,
     "metadata": {},
     "output_type": "execute_result"
    }
   ],
   "source": [
    "len(df[df['SourceId'] == 11392]) # 27 items related to this source"
   ]
  },
  {
   "cell_type": "code",
   "execution_count": 9,
   "id": "b50bafdf-99cf-486b-927a-6b5682aeeef0",
   "metadata": {},
   "outputs": [
    {
     "data": {
      "text/plain": [
       "291092"
      ]
     },
     "execution_count": 9,
     "metadata": {},
     "output_type": "execute_result"
    }
   ],
   "source": [
    "df = df[df['SourceId'] != 11392] # remove source 11392 with missing definitions\n",
    "len(df)"
   ]
  },
  {
   "cell_type": "code",
   "execution_count": 10,
   "id": "c2ae5329-2c89-4988-b8f2-4ae297718fae",
   "metadata": {},
   "outputs": [
    {
     "data": {
      "text/plain": [
       "893"
      ]
     },
     "execution_count": 10,
     "metadata": {},
     "output_type": "execute_result"
    }
   ],
   "source": [
    "# find sources with no target variance\n",
    "noVar = df.groupby(['SourceId', 'Target']).Target.count().groupby('SourceId').size().index[df.groupby(['SourceId', 'Target']).Target.count().groupby('SourceId').size() == 1]\n",
    "len(noVar)"
   ]
  },
  {
   "cell_type": "code",
   "execution_count": 11,
   "id": "75cd373d",
   "metadata": {},
   "outputs": [
    {
     "name": "stdout",
     "output_type": "stream",
     "text": [
      "72\n",
      "[1]\n"
     ]
    }
   ],
   "source": [
    "# check first problematic source based on no variance\n",
    "print(noVar[0])\n",
    "print(df.query('SourceId == ' + str(noVar[0])).Target.unique())"
   ]
  },
  {
   "cell_type": "code",
   "execution_count": 12,
   "id": "dad7fda3-64af-4ef1-87ee-183966762e9a",
   "metadata": {},
   "outputs": [
    {
     "data": {
      "text/plain": [
       "2443"
      ]
     },
     "execution_count": 12,
     "metadata": {},
     "output_type": "execute_result"
    }
   ],
   "source": [
    "# remove sources with no target variance\n",
    "clean_df = df[~df.SourceId.isin(noVar)]\n",
    "len(clean_df.SourceId.unique())"
   ]
  },
  {
   "cell_type": "code",
   "execution_count": 13,
   "id": "90ce5400",
   "metadata": {},
   "outputs": [
    {
     "name": "stdout",
     "output_type": "stream",
     "text": [
      "287426\n"
     ]
    }
   ],
   "source": [
    "print(len(clean_df))"
   ]
  },
  {
   "cell_type": "code",
   "execution_count": 14,
   "id": "9c078443-f681-4bf6-a493-359e812c319a",
   "metadata": {},
   "outputs": [
    {
     "data": {
      "text/plain": [
       "Target\n",
       "0    245854\n",
       "1     41572\n",
       "Name: Target, dtype: int64"
      ]
     },
     "execution_count": 14,
     "metadata": {},
     "output_type": "execute_result"
    }
   ],
   "source": [
    "clean_df.groupby('Target').Target.count()"
   ]
  },
  {
   "cell_type": "code",
   "execution_count": 15,
   "id": "71c0ace7-a45b-4d6a-8556-9554a4586b64",
   "metadata": {},
   "outputs": [],
   "source": [
    "ids = clean_df['SourceId'].unique()\n",
    "rand.shuffle(ids)\n",
    "final_df = clean_df.set_index('SourceId').loc[ids].reset_index()"
   ]
  },
  {
   "cell_type": "code",
   "execution_count": 16,
   "id": "47ac37b0-3152-428d-bbec-d2c59bc69d44",
   "metadata": {},
   "outputs": [
    {
     "data": {
      "text/plain": [
       "True"
      ]
     },
     "execution_count": 16,
     "metadata": {},
     "output_type": "execute_result"
    }
   ],
   "source": [
    "train_sources = rand.sample(list(ids), k = round(len(list(ids)) * 0.8))\n",
    "other_sources = set(ids) ^ set(train_sources)\n",
    "val_sources = rand.sample(list(other_sources), k = round(len(list(other_sources)) * 0.5))\n",
    "test_sources = set(other_sources) ^ set(val_sources)\n",
    "\n",
    "len(ids) == len(train_sources) + len(val_sources) + len(test_sources)"
   ]
  },
  {
   "cell_type": "code",
   "execution_count": 17,
   "id": "1b3e2794-40c1-4f18-9732-05bd03266ecb",
   "metadata": {},
   "outputs": [],
   "source": [
    "train = final_df[final_df['SourceId'].isin(train_sources)]\n",
    "val   = final_df[final_df['SourceId'].isin(val_sources)]\n",
    "test  = final_df[final_df['SourceId'].isin(test_sources)]"
   ]
  },
  {
   "cell_type": "code",
   "execution_count": 18,
   "id": "397c1c11-8b17-48f5-afa7-f878bb85fa96",
   "metadata": {},
   "outputs": [
    {
     "name": "stdout",
     "output_type": "stream",
     "text": [
      "227474\n",
      "0.7914176170562162\n"
     ]
    }
   ],
   "source": [
    "print(len(train))\n",
    "print(len(train)/len(final_df))"
   ]
  },
  {
   "cell_type": "code",
   "execution_count": 19,
   "id": "d56cc22d-1e35-4e2e-825f-d9383f0e4225",
   "metadata": {},
   "outputs": [
    {
     "name": "stdout",
     "output_type": "stream",
     "text": [
      "26648\n",
      "0.09271255905867945\n"
     ]
    }
   ],
   "source": [
    "print(len(val))\n",
    "print(len(val)/len(final_df))"
   ]
  },
  {
   "cell_type": "code",
   "execution_count": 20,
   "id": "ca15e8b3-7710-478d-be94-1dd0b4512676",
   "metadata": {},
   "outputs": [
    {
     "name": "stdout",
     "output_type": "stream",
     "text": [
      "33304\n",
      "0.11586982388510433\n"
     ]
    }
   ],
   "source": [
    "print(len(test))\n",
    "print(len(test)/len(final_df))"
   ]
  },
  {
   "cell_type": "code",
   "execution_count": 21,
   "id": "c258c370-bbb5-48a4-b2c4-4c8e1e7e5842",
   "metadata": {},
   "outputs": [],
   "source": [
    "with pd.ExcelWriter('data/processed/train_val_test.xlsx') as writer:\n",
    "    train.to_excel(writer, index = False, sheet_name = 'train')\n",
    "    val.  to_excel(writer, index = False, sheet_name = 'val')\n",
    "    test. to_excel(writer, index = False, sheet_name = 'test')"
   ]
  },
  {
   "cell_type": "code",
   "execution_count": 22,
   "id": "99c656c8-7490-4c63-8424-41e56c22a37c",
   "metadata": {},
   "outputs": [
    {
     "data": {
      "text/plain": [
       "Area\n",
       "BM            0.040000\n",
       "Education     0.028376\n",
       "IS            0.380860\n",
       "Management    0.166286\n",
       "Marketing     0.023937\n",
       "Nursing       0.034656\n",
       "Psychology    0.096227\n",
       "Sociology     0.021077\n",
       "Name: Area, dtype: float64"
      ]
     },
     "execution_count": 22,
     "metadata": {},
     "output_type": "execute_result"
    }
   ],
   "source": [
    "train.groupby('Area').Area.count() / len(final_df)"
   ]
  },
  {
   "cell_type": "code",
   "execution_count": 23,
   "id": "df2e800a-fbc9-4d4c-b45d-a8ede1aafe5a",
   "metadata": {},
   "outputs": [
    {
     "data": {
      "text/plain": [
       "Area\n",
       "BM            188\n",
       "Education      82\n",
       "IS            654\n",
       "Management    694\n",
       "Marketing     134\n",
       "Nursing       160\n",
       "Psychology    401\n",
       "Sociology     130\n",
       "dtype: int64"
      ]
     },
     "execution_count": 23,
     "metadata": {},
     "output_type": "execute_result"
    }
   ],
   "source": [
    "final_df.groupby(['Area']).apply(lambda x: len(np.unique(x['SourceId'])), include_groups = False)"
   ]
  },
  {
   "cell_type": "code",
   "execution_count": 24,
   "id": "38b8fc76",
   "metadata": {},
   "outputs": [
    {
     "data": {
      "text/plain": [
       "2443"
      ]
     },
     "execution_count": 24,
     "metadata": {},
     "output_type": "execute_result"
    }
   ],
   "source": [
    "len(final_df['SourceId'].unique())"
   ]
  }
 ],
 "metadata": {
  "kernelspec": {
   "display_name": "ht",
   "language": "python",
   "name": "python3"
  },
  "language_info": {
   "codemirror_mode": {
    "name": "ipython",
    "version": 3
   },
   "file_extension": ".py",
   "mimetype": "text/x-python",
   "name": "python",
   "nbconvert_exporter": "python",
   "pygments_lexer": "ipython3",
   "version": "3.10.18"
  }
 },
 "nbformat": 4,
 "nbformat_minor": 5
}
